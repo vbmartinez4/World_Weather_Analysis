{
 "cells": [
  {
   "cell_type": "code",
   "execution_count": 8,
   "id": "196c7695",
   "metadata": {},
   "outputs": [],
   "source": [
    "# Import the randome module.\n",
    "import random"
   ]
  },
  {
   "cell_type": "code",
   "execution_count": 9,
   "id": "63a10651",
   "metadata": {},
   "outputs": [
    {
     "data": {
      "text/plain": [
       "-71"
      ]
     },
     "execution_count": 9,
     "metadata": {},
     "output_type": "execute_result"
    }
   ],
   "source": [
    "random.randint(-90,90)"
   ]
  },
  {
   "cell_type": "code",
   "execution_count": 10,
   "id": "c70aaf9a",
   "metadata": {},
   "outputs": [
    {
     "data": {
      "text/plain": [
       "0.29448161215124546"
      ]
     },
     "execution_count": 10,
     "metadata": {},
     "output_type": "execute_result"
    }
   ],
   "source": [
    "random.random()"
   ]
  },
  {
   "cell_type": "code",
   "execution_count": 11,
   "id": "02cba144",
   "metadata": {},
   "outputs": [
    {
     "data": {
      "text/plain": [
       "-35.01979447360535"
      ]
     },
     "execution_count": 11,
     "metadata": {},
     "output_type": "execute_result"
    }
   ],
   "source": [
    "random_number= random.randint(-90,89) + random.random()\n",
    "random_number"
   ]
  },
  {
   "cell_type": "code",
   "execution_count": 13,
   "id": "817c1303",
   "metadata": {},
   "outputs": [
    {
     "data": {
      "text/plain": [
       "[34.85182614577782,\n",
       " -32.51943736343085,\n",
       " -20.90145917611118,\n",
       " 75.212669792037,\n",
       " -89.1256268556601,\n",
       " 6.175549263531141,\n",
       " 49.272854512378935,\n",
       " -38.28503242606479,\n",
       " 36.69417882533582,\n",
       " 37.25177186123282]"
      ]
     },
     "execution_count": 13,
     "metadata": {},
     "output_type": "execute_result"
    }
   ],
   "source": [
    "# How to generate latitudes between -90 to 89\n",
    "x = 1\n",
    "latitudes =[]\n",
    "while x < 11 :\n",
    "    random_lat = random.randint(-90,89) + random.random()\n",
    "    latitudes.append(random_lat)\n",
    "    x += 1\n",
    "latitudes"
   ]
  },
  {
   "cell_type": "code",
   "execution_count": 14,
   "id": "3829f0c5",
   "metadata": {},
   "outputs": [
    {
     "data": {
      "text/plain": [
       "28"
      ]
     },
     "execution_count": 14,
     "metadata": {},
     "output_type": "execute_result"
    }
   ],
   "source": [
    "random.randrange(-90,90,step=1)"
   ]
  },
  {
   "cell_type": "code",
   "execution_count": 15,
   "id": "b7b90e03",
   "metadata": {},
   "outputs": [
    {
     "data": {
      "text/plain": [
       "60"
      ]
     },
     "execution_count": 15,
     "metadata": {},
     "output_type": "execute_result"
    }
   ],
   "source": [
    "random.randrange(-90,90,step=3)"
   ]
  },
  {
   "cell_type": "code",
   "execution_count": 16,
   "id": "c3c242c3",
   "metadata": {},
   "outputs": [
    {
     "data": {
      "text/plain": [
       "84.60677607883844"
      ]
     },
     "execution_count": 16,
     "metadata": {},
     "output_type": "execute_result"
    }
   ],
   "source": [
    "random.uniform(-90,90)"
   ]
  },
  {
   "cell_type": "code",
   "execution_count": 17,
   "id": "91c77548",
   "metadata": {},
   "outputs": [],
   "source": [
    "# Import the NumPy module.\n",
    "import numpy as np"
   ]
  },
  {
   "cell_type": "code",
   "execution_count": 18,
   "id": "691e7797",
   "metadata": {},
   "outputs": [
    {
     "data": {
      "text/plain": [
       "9.144844630461122"
      ]
     },
     "execution_count": 18,
     "metadata": {},
     "output_type": "execute_result"
    }
   ],
   "source": [
    "np.random.uniform(-90.000,90.000)"
   ]
  },
  {
   "cell_type": "code",
   "execution_count": 19,
   "id": "d437d42b",
   "metadata": {},
   "outputs": [
    {
     "data": {
      "text/plain": [
       "38.717775523066166"
      ]
     },
     "execution_count": 19,
     "metadata": {},
     "output_type": "execute_result"
    }
   ],
   "source": [
    "np.random.uniform(low=-90,high=90)"
   ]
  },
  {
   "cell_type": "code",
   "execution_count": 20,
   "id": "45f1d79f",
   "metadata": {},
   "outputs": [
    {
     "data": {
      "text/plain": [
       "array([  5.75792479, -24.05253673, -73.21564488, -77.59382491,\n",
       "        22.60264737,  69.23797083,  22.68941376,  -1.72464489,\n",
       "        82.82336271, -87.28461914, -12.62383319,  43.78405062,\n",
       "        41.08861239,  86.82910509, -72.82753743,  29.7841776 ,\n",
       "        56.24289538,  49.57879498, -47.2721303 , -64.24419637,\n",
       "       -56.64927541,  33.13111179,  17.53300686, -24.12439104,\n",
       "        61.17858096,  77.55369997, -48.78129781, -25.43298043,\n",
       "       -83.90771654, -81.6776486 , -11.58180475,  88.40600371,\n",
       "        33.39763027,  -0.34911463, -43.97513664, -43.96451589,\n",
       "       -76.11274439,  54.380134  ,  29.90037818,  16.64698459,\n",
       "       -23.77876841,  52.57107949,  50.63486596, -30.04765764,\n",
       "        43.29294598, -62.9777277 ,   8.45062698, -37.35269456,\n",
       "        68.69899929, -31.12261435])"
      ]
     },
     "execution_count": 20,
     "metadata": {},
     "output_type": "execute_result"
    }
   ],
   "source": [
    "np.random.uniform(-90.000, 90.000, size=50)"
   ]
  },
  {
   "cell_type": "code",
   "execution_count": 21,
   "id": "1152e367",
   "metadata": {},
   "outputs": [],
   "source": [
    "# Import timeit.\n",
    "import timeit"
   ]
  },
  {
   "cell_type": "code",
   "execution_count": 22,
   "id": "4883b5f1",
   "metadata": {},
   "outputs": [
    {
     "name": "stdout",
     "output_type": "stream",
     "text": [
      "34.5 µs ± 5.03 µs per loop (mean ± std. dev. of 7 runs, 10000 loops each)\n"
     ]
    }
   ],
   "source": [
    "%timeit np.random.uniform(-90.000,90.000,size=1500)"
   ]
  },
  {
   "cell_type": "code",
   "execution_count": 23,
   "id": "ba4cd1ab",
   "metadata": {},
   "outputs": [
    {
     "name": "stdout",
     "output_type": "stream",
     "text": [
      "5.2 ms ± 421 µs per loop (mean ± std. dev. of 7 runs, 100 loops each)\n"
     ]
    }
   ],
   "source": [
    "def latitudes(size):\n",
    "    latitudes = []\n",
    "    x = 0\n",
    "    while x < (size):\n",
    "        random_lat = random.randint(-90, 90) + random.random()\n",
    "        latitudes.append(random_lat)\n",
    "        x += 1\n",
    "    return latitudes\n",
    "# Call the function with 1500.\n",
    "%timeit latitudes(1500)"
   ]
  },
  {
   "cell_type": "code",
   "execution_count": null,
   "id": "2ada71a7",
   "metadata": {},
   "outputs": [],
   "source": []
  }
 ],
 "metadata": {
  "kernelspec": {
   "display_name": "PythonData",
   "language": "python",
   "name": "pythondata"
  },
  "language_info": {
   "codemirror_mode": {
    "name": "ipython",
    "version": 3
   },
   "file_extension": ".py",
   "mimetype": "text/x-python",
   "name": "python",
   "nbconvert_exporter": "python",
   "pygments_lexer": "ipython3",
   "version": "3.7.13"
  }
 },
 "nbformat": 4,
 "nbformat_minor": 5
}
